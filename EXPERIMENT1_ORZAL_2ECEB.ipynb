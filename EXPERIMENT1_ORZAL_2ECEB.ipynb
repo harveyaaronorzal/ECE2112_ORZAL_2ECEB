{
 "cells": [
  {
   "attachments": {},
   "cell_type": "markdown",
   "id": "d5fb408f-b7d5-41ab-88b1-c23376e4cdc5",
   "metadata": {},
   "source": [
    "# EXPERIMENT 1: INTRODUCTION TO PYTHON PROGRAMMING\n",
    "\n",
    "Orzal, Harvey Aaron E. \n",
    "\n",
    "2ECE - B\n",
    "\n",
    "## ALPHABET SOUP PROBLEM\n",
    "Create a function that takes a string and returns a string with its letters in alphabetical order.\n",
    "\n"
   ]
  },
  {
   "cell_type": "code",
   "execution_count": 47,
   "id": "1792e125-6553-4aa9-83bc-108596214aa2",
   "metadata": {},
   "outputs": [
    {
     "name": "stdout",
     "output_type": "stream",
     "text": [
      "ehllo\n",
      "acehkr\n"
     ]
    }
   ],
   "source": [
    "def alphabet_soup(text):\n",
    "    return ''.join(sorted(text))\n",
    "\n",
    "print(alphabet_soup(\"hello\")) \n",
    "print(alphabet_soup(\"hacker\")) "
   ]
  },
  {
   "cell_type": "markdown",
   "id": "a9fe633a-5665-4045-b958-667bc06c3d49",
   "metadata": {},
   "source": [
    "## EMOTICON PROBLEM\n",
    "\n",
    "Create a function that changes specific words into emoticons. Given a sentence as a string, replace the words smile, grin, sad, and mad with their corresponding emoticon."
   ]
  },
  {
   "cell_type": "code",
   "execution_count": 48,
   "id": "4ac16c8b-8f61-4d6c-99a3-2b10de4be729",
   "metadata": {},
   "outputs": [
    {
     "name": "stdout",
     "output_type": "stream",
     "text": [
      "Make me :)\n",
      "I am >:(\n"
     ]
    }
   ],
   "source": [
    "def emotify(sentence):\n",
    "    emoticons = {\"smile\": \":)\", \"grin\": \":D\", \"sad\": \":((\", \"mad\": \">:(\"}\n",
    "    \n",
    "    words = sentence.split()\n",
    "    \n",
    "    for i in range(len(words)):\n",
    "        word = words[i].lower() \n",
    "        if word in emoticons:\n",
    "            words[i] = emoticons[word]\n",
    "    \n",
    "    return ' '.join(words)\n",
    "\n",
    "print(emotify(\"Make me smile\"))  \n",
    "print(emotify(\"I am mad\"))       \n"
   ]
  },
  {
   "cell_type": "markdown",
   "id": "162e9926-5b1b-4dad-a67a-6f9749a27fb7",
   "metadata": {},
   "source": [
    "## UNPACKING LIST PROBLEM\n",
    "\n",
    "Unpack the list writeyourcodehere into three variables, being first, middle, and last, with middle being everything in between the first and last element. Then print all three variables."
   ]
  },
  {
   "cell_type": "code",
   "execution_count": 49,
   "id": "fa3ee50d-9120-466e-a40b-52388de7d387",
   "metadata": {},
   "outputs": [
    {
     "name": "stdout",
     "output_type": "stream",
     "text": [
      "first: 1\n",
      "middle: [2, 3, 4, 5]\n",
      "last: 6\n"
     ]
    }
   ],
   "source": [
    "writeyourcodehere = [1, 2, 3, 4, 5, 6]\n",
    "\n",
    "first, *middle, last = writeyourcodehere\n",
    "\n",
    "print(\"first:\", first)\n",
    "print(\"middle:\", middle)\n",
    "print(\"last:\", last)\n"
   ]
  }
 ],
 "metadata": {
  "kernelspec": {
   "display_name": "Python [conda env:base] *",
   "language": "python",
   "name": "conda-base-py"
  },
  "language_info": {
   "codemirror_mode": {
    "name": "ipython",
    "version": 3
   },
   "file_extension": ".py",
   "mimetype": "text/x-python",
   "name": "python",
   "nbconvert_exporter": "python",
   "pygments_lexer": "ipython3",
   "version": "3.13.5"
  }
 },
 "nbformat": 4,
 "nbformat_minor": 5
}
